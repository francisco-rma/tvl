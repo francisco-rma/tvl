{
 "cells": [
  {
   "cell_type": "code",
   "execution_count": 100,
   "metadata": {},
   "outputs": [
    {
     "data": {
      "image/png": "[encoded data removed]",
      "text/plain": [
       "<Figure size 432x288 with 1 Axes>"
      ]
     },
     "metadata": {
      "needs_background": "light"
     },
     "output_type": "display_data"
    }
   ],
   "source": [
    "from time import time\n",
    "import functions as f\n",
    "from matplotlib import pyplot as plt\n",
    "\n",
    "n=1000\n",
    "\n",
    "lb,ub = 0,1\n",
    "\n",
    "mu,sigma = 0.6,0.1\n",
    "\n",
    "t, t_i = f.population(n,lb,ub,mu,sigma)\n",
    "\n",
    "plt.hist(t,50)\n",
    "plt.show()"
   ]
  },
  {
   "cell_type": "code",
   "execution_count": 121,
   "metadata": {},
   "outputs": [
    {
     "data": {
      "image/png": "[encoded data removed]",
      "text/plain": [
       "<Figure size 432x288 with 1 Axes>"
      ]
     },
     "metadata": {
      "needs_background": "light"
     },
     "output_type": "display_data"
    },
    {
     "name": "stdout",
     "output_type": "stream",
     "text": [
      "40960.0 0.6687826986070294\n"
     ]
    }
   ],
   "source": [
    "iterations = 200\n",
    "\n",
    "cap = f.evolution(t,iterations,0.1,0.1)\n",
    "\n",
    "final_cap = cap[:,iterations-1]\n",
    "\n",
    "plt.plot(t,final_cap)\n",
    "plt.show()\n",
    "\n",
    "print(f.np.max(final_cap),t[f.np.argmax(final_cap)])"
   ]
  },
  {
   "cell_type": "code",
   "execution_count": 123,
   "metadata": {},
   "outputs": [
    {
     "name": "stdout",
     "output_type": "stream",
     "text": [
      "20480.0\n"
     ]
    }
   ],
   "source": [
    "histn = 1000\n",
    "\n",
    "for i in range(histn):\n",
    "\n",
    "    #most successful individuals\n",
    "    msi = []\n",
    "\n",
    "    cap = f.evolution(t,iterations,0.1,0.1)\n",
    "\n",
    "    final_cap = cap[:,iterations-1]\n",
    "\n",
    "    msi.append(f.np.amax(final_cap))\n",
    "\n",
    "print(f.np.mean(msi))\n",
    "\n",
    "\n",
    "\n"
   ]
  },
  {
   "cell_type": "code",
   "execution_count": null,
   "metadata": {},
   "outputs": [],
   "source": []
  }
 ],
 "metadata": {
  "interpreter": {
   "hash": "bf2a468ac68df3d140b2460e7503e32764a03845a63503779b72b1d170417996"
  },
  "kernelspec": {
   "display_name": "Python 3.8.10 ('tvl-IIjiKoru')",
   "language": "python",
   "name": "python3"
  },
  "language_info": {
   "codemirror_mode": {
    "name": "ipython",
    "version": 3
   },
   "file_extension": ".py",
   "mimetype": "text/x-python",
   "name": "python",
   "nbconvert_exporter": "python",
   "pygments_lexer": "ipython3",
   "version": "3.8.10"
  },
  "orig_nbformat": 4
 },
 "nbformat": 4,
 "nbformat_minor": 2
}
